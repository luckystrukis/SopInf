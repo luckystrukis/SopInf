{
 "cells": [
  {
   "cell_type": "code",
   "execution_count": 18,
   "metadata": {},
   "outputs": [
    {
     "name": "stdout",
     "output_type": "stream",
     "text": [
      "Presencial:  2178\n",
      "Virtual:  708\n"
     ]
    }
   ],
   "source": [
    "# 1. ¿Cuántas actividades se realizarán de forma virtual o de forma presencial?\n",
    "\n",
    "import pandas as pd\n",
    "\n",
    "df = pd.read_csv(\"actividades-culturales-2021.csv\",sep=\";\",engine=\"python\")\n",
    "\n",
    "df2 = df[df[\"Modalidad\"] == \"Presencial\"]\n",
    "print(\"Presencial: \", len(df2.index))\n",
    "\n",
    "df2 = df[df[\"Modalidad\"] == \"Virtual\"]\n",
    "print(\"Virtual: \", len(df2.index))"
   ]
  },
  {
   "cell_type": "code",
   "execution_count": 1,
   "metadata": {},
   "outputs": [
    {
     "name": "stdout",
     "output_type": "stream",
     "text": [
      "131\n"
     ]
    }
   ],
   "source": [
    "# 2. ¿Cuántas actividades se supenden por lluvia?\n",
    "\n",
    "import pandas as pd\n",
    "\n",
    "df = pd.read_csv(\"actividades-culturales-2021.csv\",sep=\";\",engine=\"python\")\n",
    "\n",
    "df = df[df[\"se_suspende_por_lluvia\"] == \"Si\"]\n",
    "print(len(df.index))"
   ]
  },
  {
   "cell_type": "code",
   "execution_count": 2,
   "metadata": {},
   "outputs": [
    {
     "name": "stdout",
     "output_type": "stream",
     "text": [
      "62\n"
     ]
    }
   ],
   "source": [
    "# 3. ¿Cuántas actividades suceden en el mes de Mayo?\n",
    "\n",
    "import pandas as pd\n",
    "\n",
    "df = pd.read_csv(\"actividades-culturales-2021.csv\",sep=\";\",engine=\"python\")\n",
    "\n",
    "df = df[df[\"fecha_inicio\"].str.contains(\"-05-\") == True]\n",
    "print(len(df.index))"
   ]
  },
  {
   "cell_type": "code",
   "execution_count": 3,
   "metadata": {},
   "outputs": [
    {
     "name": "stdout",
     "output_type": "stream",
     "text": [
      "2\n"
     ]
    }
   ],
   "source": [
    "# 4. ¿Cuántas actividades se suspenden por lluvia y suceden en el mes de Septiembre?\n",
    "\n",
    "import pandas as pd\n",
    "\n",
    "df = pd.read_csv(\"actividades-culturales-2021.csv\",sep=\";\",engine=\"python\")\n",
    "\n",
    "df = df[df[\"fecha_inicio\"].str.contains(\"-09-\") == True]\n",
    "df = df[df[\"se_suspende_por_lluvia\"] == \"Si\"]\n",
    "print(len(df.index))"
   ]
  },
  {
   "cell_type": "code",
   "execution_count": 4,
   "metadata": {},
   "outputs": [
    {
     "name": "stdout",
     "output_type": "stream",
     "text": [
      "316\n"
     ]
    }
   ],
   "source": [
    "# 5. ¿Cuáles son los nombres de las actividades que están relacionadas con el cine?\n",
    "\n",
    "import pandas as pd\n",
    "\n",
    "df = pd.read_csv(\"actividades-culturales-2021.csv\",sep=\";\",engine=\"python\")\n",
    "\n",
    "df = df[df[\"disciplina\"].str.contains(\"ine\") == True]\n",
    "print(len(df.index))"
   ]
  },
  {
   "cell_type": "code",
   "execution_count": 5,
   "metadata": {},
   "outputs": [
    {
     "name": "stdout",
     "output_type": "stream",
     "text": [
      "       Modalidad                                          actividad  \\\n",
      "1        Virtual                                        Libro Móvil   \n",
      "2        Virtual                                     Instalar Danza   \n",
      "4        Virtual      Concurso Desarrollo de Proyectos Audiovisuale   \n",
      "11    Presencial                       Mariu Fernández en concierto   \n",
      "47       Virtual  Convocatoria: Premio estímulo a la creación y ...   \n",
      "...          ...                                                ...   \n",
      "2899     Virtual                     Jornadas de Producción Musical   \n",
      "2900     Virtual                                Semana de la Música   \n",
      "2901     Virtual                               Educar en Emergencia   \n",
      "2911     Virtual  Seguimos Latiendo Podcast -  Invitada  Yamila ...   \n",
      "2916     Virtual  14 Premio Germán Rozenmacher de Nueva Dramatur...   \n",
      "\n",
      "                                  descripcion_actividad  \\\n",
      "1     Una vidriera de libros nómade en el espacio pú...   \n",
      "2     Ciclo de danza online a través de Vivamos Cult...   \n",
      "4     Concurso de desarrollo de proyectos audiovisua...   \n",
      "11                        Dirigida por Mariu Fernández.   \n",
      "47    Una acción conjunta entre el CTBA y el Banco C...   \n",
      "...                                                 ...   \n",
      "2899                                                NaN   \n",
      "2900                                                NaN   \n",
      "2901                                                NaN   \n",
      "2911                                                NaN   \n",
      "2916                                                NaN   \n",
      "\n",
      "                                                  lugar       dirección  \\\n",
      "1     distintas ferias de la ciudad y espacios verde...             NaN   \n",
      "2                                                   NaN             NaN   \n",
      "4                                                     -             NaN   \n",
      "11                                        PLAZA ALMAGRO  SARMIENTO 1552   \n",
      "47                                                  NaN             NaN   \n",
      "...                                                 ...             ...   \n",
      "2899                                                NaN             NaN   \n",
      "2900                                                NaN             NaN   \n",
      "2901                                                NaN             NaN   \n",
      "2911                                                NaN             NaN   \n",
      "2916                                                NaN             NaN   \n",
      "\n",
      "          calle  altura       barrio comuna fecha_inicio  ...          tipo  \\\n",
      "1           NaN     NaN          NaN    NaN   2021-01-13  ...     Actividad   \n",
      "2           NaN     NaN          NaN    NaN   2021-01-15  ...     Actividad   \n",
      "4           NaN     NaN          NaN    NaN   2021-01-20  ...  Convocatoria   \n",
      "11    SARMIENTO  1552.0  SAN NICOLAS      1   2021-01-21  ...     Actividad   \n",
      "47          NaN     NaN          NaN    NaN   2021-01-08  ...  Convocatoria   \n",
      "...         ...     ...          ...    ...          ...  ...           ...   \n",
      "2899        NaN     NaN          NaN    NaN   2021-09-27  ...     Actividad   \n",
      "2900        NaN     NaN          NaN    NaN   2021-09-27  ...     Actividad   \n",
      "2901        NaN     NaN          NaN    NaN   2021-09-22  ...     Actividad   \n",
      "2911        NaN     NaN          NaN    NaN   2021-09-13  ...     Actividad   \n",
      "2916        NaN     NaN          NaN    NaN   2021-09-30  ...  Convocatoria   \n",
      "\n",
      "            tipo_actividad                   disciplina publico_objetivo  \\\n",
      "1                    Ciclo  Literatura, Libro y Lectura  Público General   \n",
      "2                    Ciclo              Artes Escénicas  Público General   \n",
      "4                      NaN           Cine y Audiovisual  Público General   \n",
      "11    Función / Exhibición              Artes Escénicas  Público General   \n",
      "47                     NaN              Artes Escénicas  Público General   \n",
      "...                    ...                          ...              ...   \n",
      "2899             Encuentro                       Música  Público General   \n",
      "2900             Encuentro                       Música  Público General   \n",
      "2901             Formación               Artes Visuales  Público General   \n",
      "2911             Encuentro                       Música  Público General   \n",
      "2916                   NaN              Artes Escénicas  Público General   \n",
      "\n",
      "     se_suspende_por_lluvia Gratuita       long        lat  \\\n",
      "1                        Si       Si        NaN        NaN   \n",
      "2                        No       Si        NaN        NaN   \n",
      "4                        No       Si        NaN        NaN   \n",
      "11                        0       Si -58.388695 -34.605439   \n",
      "47                       No       Si        NaN        NaN   \n",
      "...                     ...      ...        ...        ...   \n",
      "2899                     No       si        NaN        NaN   \n",
      "2900                     No       si        NaN        NaN   \n",
      "2901                     No       si        NaN        NaN   \n",
      "2911                     No       si        NaN        NaN   \n",
      "2916                     No       si        NaN        NaN   \n",
      "\n",
      "                                                  Links cantidad_dias  \n",
      "1     https://www.buenosaires.gob.ar/cultura/impulso...          52.0  \n",
      "2     https://vivamoscultura.buenosaires.gob.ar/cont...          31.0  \n",
      "4                              https://bacacluster.com/          30.0  \n",
      "11                      http://elculturalsanmartin.org/          31.0  \n",
      "47                           www.complejoteatral.gob.ar         410.0  \n",
      "...                                                 ...           ...  \n",
      "2899  https://www.buenosaires.gob.ar/cultura/ensenan...           5.0  \n",
      "2900                                                NaN           5.0  \n",
      "2901                                                NaN           7.0  \n",
      "2911                                                NaN           7.0  \n",
      "2916                                                NaN          25.0  \n",
      "\n",
      "[549 rows x 21 columns]\n"
     ]
    }
   ],
   "source": [
    "# 6. ¿Cuáles son los nombres de las actividades que duran más de 3 días?\n",
    "\n",
    "import pandas as pd\n",
    "\n",
    "df = pd.read_csv(\"actividades-culturales-2021.csv\",sep=\";\",engine=\"python\")\n",
    "\n",
    "df[[\"fecha_fin\",\"fecha_inicio\"]] = df[[\"fecha_fin\",\"fecha_inicio\"]].apply(pd.to_datetime)\n",
    "df[\"cantidad_dias\"] = (df[\"fecha_fin\"] - df[\"fecha_inicio\"]).dt.days\n",
    "df = df[df[\"cantidad_dias\"] > 3]\n",
    "print(df)"
   ]
  },
  {
   "cell_type": "code",
   "execution_count": 6,
   "metadata": {},
   "outputs": [
    {
     "name": "stdout",
     "output_type": "stream",
     "text": [
      "BOCA                 553\n",
      "SAN NICOLAS          524\n",
      "RECOLETA             204\n",
      "PALERMO              187\n",
      "VILLA URQUIZA        147\n",
      "BALVANERA            113\n",
      "SAN TELMO             65\n",
      "BELGRANO              64\n",
      "CHACARITA             56\n",
      "MONSERRAT             55\n",
      "MATADEROS             51\n",
      "RETIRO                44\n",
      "ALMAGRO               39\n",
      "CABALLITO             15\n",
      "BARRACAS              12\n",
      "VILLA LUGANO           9\n",
      "VILLA CRESPO           8\n",
      "VILLA DEVOTO           7\n",
      "NUEVA POMPEYA          6\n",
      "BOEDO                  5\n",
      "AGRONOMIA              5\n",
      "FLORES                 4\n",
      "COLEGIALES             4\n",
      "PARQUE PATRICIOS       2\n",
      "SAN CRISTOBAL          2\n",
      "PARQUE CHACABUCO       2\n",
      "FLORESTA               1\n",
      "VILLA SOLDATI          1\n",
      "CONSTITUCION           1\n",
      "VILLA GRAL. MITRE      1\n",
      "LINIERS                1\n",
      "VILLA DEL PARQUE       1\n",
      "Name: barrio, dtype: int64\n"
     ]
    },
    {
     "data": {
      "image/png": "[encoded data removed]",
      "text/plain": [
       "<Figure size 500x500 with 1 Axes>"
      ]
     },
     "metadata": {},
     "output_type": "display_data"
    }
   ],
   "source": [
    "# 7. ¿Cuántas actividades se realizarán por barrio?\n",
    "\n",
    "import pandas as pd\n",
    "\n",
    "df = pd.read_csv(\"actividades-culturales-2021.csv\",sep=\";\",engine=\"python\")\n",
    "\n",
    "df[\"barrio\"] = df[\"barrio\"].str.upper()\n",
    "df = df[\"barrio\"].value_counts()\n",
    "\n",
    "plot = df.plot.pie(y=\"barrio\", figsize=(5, 5))\n",
    "\n",
    "print(df)"
   ]
  },
  {
   "cell_type": "code",
   "execution_count": 7,
   "metadata": {},
   "outputs": [
    {
     "name": "stdout",
     "output_type": "stream",
     "text": [
      "22\n"
     ]
    }
   ],
   "source": [
    "# 8. ¿Cuántas actividades relacionadas con la música sucederán en el barrio de Villa Urquiza?\n",
    "\n",
    "import pandas as pd\n",
    "\n",
    "df = pd.read_csv(\"actividades-culturales-2021.csv\",sep=\";\",engine=\"python\")\n",
    "\n",
    "df = df[df[\"barrio\"].str.contains(\"VILLA URQUIZA\") == True]\n",
    "df = df[df[\"disciplina\"].str.contains(\"Música\") == True]\n",
    "print(len(df.index))"
   ]
  },
  {
   "cell_type": "code",
   "execution_count": 8,
   "metadata": {},
   "outputs": [
    {
     "name": "stdout",
     "output_type": "stream",
     "text": [
      "8.512279488066413\n"
     ]
    }
   ],
   "source": [
    "# 9. ¿Cuál es la cantidad de días promedio que dura una actividad?\n",
    "\n",
    "import pandas as pd\n",
    "\n",
    "df = pd.read_csv(\"actividades-culturales-2021.csv\",sep=\";\",engine=\"python\")\n",
    "\n",
    "df[[\"fecha_fin\",\"fecha_inicio\"]] = df[[\"fecha_fin\",\"fecha_inicio\"]].apply(pd.to_datetime)\n",
    "df[\"cantidad_dias\"] = (df[\"fecha_fin\"] - df[\"fecha_inicio\"]).dt.days\n",
    "print(df[\"cantidad_dias\"].mean())"
   ]
  },
  {
   "cell_type": "code",
   "execution_count": 9,
   "metadata": {},
   "outputs": [
    {
     "name": "stdout",
     "output_type": "stream",
     "text": [
      "254431                   Benjamin\n",
      "254432                   Isabella\n",
      "254433                    Joaquin\n",
      "254434                    Martina\n",
      "254435                      Sofía\n",
      "                   ...           \n",
      "457912                NATANEL ROY\n",
      "457913    Josuè Jeremìas Emmanuel\n",
      "457914                Tomás Italo\n",
      "457915                Ailin Hanna\n",
      "457916                 Naim Henry\n",
      "Name: nombre, Length: 203486, dtype: object\n"
     ]
    }
   ],
   "source": [
    "# 1. ¿Cuántos nombres fueron usados en el año 2012?\n",
    "\n",
    "import pandas as pd\n",
    "\n",
    "df = pd.read_csv(\"nombres-2010-2014.csv\",sep=\",\",engine=\"python\")\n",
    "\n",
    "df = df[df[\"anio\"] == (2012)]\n",
    "print(df[\"nombre\"])"
   ]
  },
  {
   "cell_type": "code",
   "execution_count": 103,
   "metadata": {},
   "outputs": [
    {
     "name": "stdout",
     "output_type": "stream",
     "text": [
      "                       nombre  cantidad  anio\n",
      "254435                  Sofía      3024  2012\n",
      "254438                Santino      2929  2012\n",
      "254443               Santiago      2457  2012\n",
      "254481                  Simon      1047  2012\n",
      "254501               Salvador       796  2012\n",
      "...                       ...       ...   ...\n",
      "457770  Santino Mateo Gabriel         1  2012\n",
      "457775  Sergio Leonardo Aaron         1  2012\n",
      "457844           Santina Lara         1  2012\n",
      "457848       Selena Luz Maria         1  2012\n",
      "457883       Sergio Marcelino         1  2012\n",
      "\n",
      "[10962 rows x 3 columns]\n"
     ]
    }
   ],
   "source": [
    "# 2.¿Cuántos nombres fueron usados en el año 2012 y empiezan con la letra S?\n",
    "\n",
    "import pandas as pd\n",
    "\n",
    "df = pd.read_csv(\"nombres-2010-2014.csv\",sep=\",\",engine=\"python\")\n",
    "\n",
    "df = df[df[\"anio\"] == (2012)]\n",
    "df = df[df[\"nombre\"].str.startswith(\"S\")]\n",
    "print(df)"
   ]
  },
  {
   "cell_type": "code",
   "execution_count": 112,
   "metadata": {},
   "outputs": [
    {
     "name": "stdout",
     "output_type": "stream",
     "text": [
      "204831\n"
     ]
    }
   ],
   "source": [
    "# 3. ¿Cuántos nombres empiezan con una letra vocal?\n",
    "\n",
    "import pandas as pd\n",
    "\n",
    "df = pd.read_csv(\"nombres-2010-2014.csv\",sep=\",\",engine=\"python\")\n",
    "\n",
    "df1 = df[df[\"nombre\"].str.startswith(\"A\")]\n",
    "df2 = df[df[\"nombre\"].str.startswith(\"E\")]\n",
    "df3 = df[df[\"nombre\"].str.startswith(\"I\")]\n",
    "df4 = df[df[\"nombre\"].str.startswith(\"O\")]\n",
    "df5 = df[df[\"nombre\"].str.startswith(\"U\")]\n",
    "cant = len(df1.index) + len(df2) + len(df3) + len(df4) + len(df5)\n",
    "print(cant)"
   ]
  },
  {
   "cell_type": "code",
   "execution_count": 114,
   "metadata": {},
   "outputs": [
    {
     "name": "stdout",
     "output_type": "stream",
     "text": [
      "154671\n"
     ]
    }
   ],
   "source": [
    "# 4. ¿Cuántos nombres empiezan con una letra vocal y fueron utilizados desde el año 2010 hasta el año 2013?\n",
    "\n",
    "import pandas as pd\n",
    "\n",
    "df = pd.read_csv(\"nombres-2010-2014.csv\",sep=\",\",engine=\"python\")\n",
    "\n",
    "df = df[(df[\"anio\"] >= (2010)) & (df[\"anio\"] <= 2013)]\n",
    "df1 = df[df[\"nombre\"].str.startswith(\"A\")]\n",
    "df2 = df[df[\"nombre\"].str.startswith(\"E\")]\n",
    "df3 = df[df[\"nombre\"].str.startswith(\"I\")]\n",
    "df4 = df[df[\"nombre\"].str.startswith(\"O\")]\n",
    "df5 = df[df[\"nombre\"].str.startswith(\"U\")]\n",
    "cant = len(df1.index) + len(df2) + len(df3) + len(df4) + len(df5)\n",
    "print(cant)"
   ]
  },
  {
   "cell_type": "code",
   "execution_count": 61,
   "metadata": {},
   "outputs": [
    {
     "name": "stdout",
     "output_type": "stream",
     "text": [
      "457917    Benjamin\n",
      "Name: nombre, dtype: object\n"
     ]
    }
   ],
   "source": [
    "# 5. ¿Cuál es el nombre que fué más utilizado?\n",
    "\n",
    "import pandas as pd\n",
    "\n",
    "df = pd.read_csv(\"nombres-2010-2014.csv\",sep=\",\",engine=\"python\")\n",
    "\n",
    "df2 = df[\"cantidad\"].max(numeric_only=\"True\")\n",
    "df3 = df.loc[df[\"cantidad\"] == df2]\n",
    "print(df3[\"nombre\"])"
   ]
  },
  {
   "cell_type": "code",
   "execution_count": 62,
   "metadata": {},
   "outputs": [
    {
     "name": "stdout",
     "output_type": "stream",
     "text": [
      "662387    Benjamin\n",
      "Name: nombre, dtype: object\n"
     ]
    }
   ],
   "source": [
    "# 6. ¿Cuál es el nombre que fué más utilizado en el año 2014?\n",
    "\n",
    "import pandas as pd\n",
    "\n",
    "df = pd.read_csv(\"nombres-2010-2014.csv\",sep=\",\",engine=\"python\")\n",
    "\n",
    "df = df[df[\"anio\"] == (2014)]\n",
    "df2 = df[\"cantidad\"].max(numeric_only=\"True\")\n",
    "df3 = df.loc[df[\"cantidad\"] == df2]\n",
    "print(df3[\"nombre\"])"
   ]
  },
  {
   "cell_type": "code",
   "execution_count": 79,
   "metadata": {},
   "outputs": [
    {
     "name": "stdout",
     "output_type": "stream",
     "text": [
      "52578             Lara Ashely\n",
      "52579         JHOSELIN DAFNER\n",
      "52580             Paz Leonela\n",
      "52581     Dilan Gustavo Uriel\n",
      "52582          Joaquin Silvio\n",
      "                 ...         \n",
      "134995          Delvis Malena\n",
      "134996          Naomi Ahinara\n",
      "134997         Katerine Luján\n",
      "134998           Julio Yutiel\n",
      "134999         Adelaida Ailen\n",
      "Name: nombre, Length: 82422, dtype: object\n"
     ]
    }
   ],
   "source": [
    "# 7. ¿Cuál fué el nombre menos utilizado en año 2010?\n",
    "\n",
    "import pandas as pd\n",
    "\n",
    "df = pd.read_csv(\"nombres-2010-2014.csv\",sep=\",\",engine=\"python\")\n",
    "\n",
    "df = df[df[\"anio\"] == (2010)]\n",
    "df2 = df[\"cantidad\"].min(numeric_only=\"True\")\n",
    "df3 = df.loc[df[\"cantidad\"] == df2]\n",
    "print(df3[\"nombre\"])"
   ]
  },
  {
   "cell_type": "code",
   "execution_count": 119,
   "metadata": {},
   "outputs": [
    {
     "name": "stdout",
     "output_type": "stream",
     "text": [
      "180672       Amelia Alejandra\n",
      "180678      Azul Kimey Eyelen\n",
      "180690            Azul Haydee\n",
      "180701         Alfonso Manuel\n",
      "180717        Alma Ana Alanys\n",
      "                 ...         \n",
      "254396          Ayelen Aldana\n",
      "254399         Areli Luisana \n",
      "254413       Ahytana Berenice\n",
      "254414             Ambar Ayun\n",
      "254422    Alexandra Victorina\n",
      "Name: nombre, Length: 9634, dtype: object\n"
     ]
    }
   ],
   "source": [
    "# 8. ¿Cuál fué el nombre menos utilizado en el año 2011 y empieza con la letra A?\n",
    "\n",
    "import pandas as pd\n",
    "\n",
    "df = pd.read_csv(\"nombres-2010-2014.csv\",sep=\",\",engine=\"python\")\n",
    "\n",
    "df = df[df[\"anio\"] == (2011)]\n",
    "df = df[df[\"nombre\"].str.startswith(\"A\")]\n",
    "df2 = df[\"cantidad\"].min(numeric_only=\"True\")\n",
    "df3 = df.loc[df[\"cantidad\"] == df2]\n",
    "print(df3[\"nombre\"])\n"
   ]
  },
  {
   "cell_type": "code",
   "execution_count": 120,
   "metadata": {},
   "outputs": [
    {
     "name": "stdout",
     "output_type": "stream",
     "text": [
      "4.278224520191762\n"
     ]
    }
   ],
   "source": [
    "# 9. ¿Cuál es la cantidad promedio de nombres utilizados?\n",
    "\n",
    "import pandas as pd\n",
    "\n",
    "df = pd.read_csv(\"nombres-2010-2014.csv\",sep=\",\",engine=\"python\")\n",
    "\n",
    "df = df[\"cantidad\"].mean()\n",
    "print(df)"
   ]
  },
  {
   "cell_type": "code",
   "execution_count": 122,
   "metadata": {},
   "outputs": [
    {
     "name": "stdout",
     "output_type": "stream",
     "text": [
      "anio\n",
      "2010    4.044756\n",
      "2011    3.770964\n",
      "2012    4.672262\n",
      "2013    4.401761\n",
      "2014    4.214431\n",
      "Name: cantidad, dtype: float64\n"
     ]
    }
   ],
   "source": [
    "# 10. ¿Cuál es la cantidad promedio de nombres utilizados por año?\n",
    "\n",
    "import pandas as pd\n",
    "\n",
    "df = pd.read_csv(\"nombres-2010-2014.csv\",sep=\",\",engine=\"python\")\n",
    "\n",
    "df = df.groupby(\"anio\")[\"cantidad\"].mean()\n",
    "print(df)"
   ]
  },
  {
   "cell_type": "code",
   "execution_count": 125,
   "metadata": {},
   "outputs": [
    {
     "name": "stdout",
     "output_type": "stream",
     "text": [
      "3728447\n"
     ]
    }
   ],
   "source": [
    "# 11. ¿Cuál es la suma total de los nombres utilizados?\n",
    "\n",
    "import pandas as pd\n",
    "\n",
    "df = pd.read_csv(\"nombres-2010-2014.csv\",sep=\",\",engine=\"python\")\n",
    "\n",
    "df = df[\"cantidad\"].sum()\n",
    "print(df)"
   ]
  },
  {
   "cell_type": "code",
   "execution_count": 126,
   "metadata": {},
   "outputs": [
    {
     "name": "stdout",
     "output_type": "stream",
     "text": [
      "753524\n"
     ]
    }
   ],
   "source": [
    "# 12. ¿Cuántos nombres empiezan con cada una de las vocales?\n",
    "\n",
    "import pandas as pd\n",
    "\n",
    "df = pd.read_csv(\"nombres-2010-2014.csv\",sep=\",\",engine=\"python\")\n",
    "\n",
    "dfA = df[df[\"nombre\"].str.startswith(\"A\")]\n",
    "dfE = df[df[\"nombre\"].str.startswith(\"E\")]\n",
    "dfI = df[df[\"nombre\"].str.startswith(\"I\")]\n",
    "dfO = df[df[\"nombre\"].str.startswith(\"O\")]\n",
    "dfU = df[df[\"nombre\"].str.startswith(\"U\")]\n",
    "cant = (dfA[\"cantidad\"].sum()) + (dfE[\"cantidad\"].sum()) + (dfI[\"cantidad\"].sum()) + (dfO[\"cantidad\"].sum()) + (dfU[\"cantidad\"].sum())\n",
    "print(cant)"
   ]
  }
 ],
 "metadata": {
  "kernelspec": {
   "display_name": "Python 3.8.10 64-bit",
   "language": "python",
   "name": "python3"
  },
  "language_info": {
   "codemirror_mode": {
    "name": "ipython",
    "version": 3
   },
   "file_extension": ".py",
   "mimetype": "text/x-python",
   "name": "python",
   "nbconvert_exporter": "python",
   "pygments_lexer": "ipython3",
   "version": "3.10.6"
  },
  "orig_nbformat": 4,
  "vscode": {
   "interpreter": {
    "hash": "916dbcbb3f70747c44a77c7bcd40155683ae19c65e1c03b4aa3499c5328201f1"
   }
  }
 },
 "nbformat": 4,
 "nbformat_minor": 2
}
